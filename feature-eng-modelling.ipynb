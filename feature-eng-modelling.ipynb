{
 "cells": [
  {
   "cell_type": "code",
   "execution_count": 1,
   "id": "initial_id",
   "metadata": {
    "collapsed": true,
    "ExecuteTime": {
     "end_time": "2024-10-05T15:05:39.803627Z",
     "start_time": "2024-10-05T15:05:38.962035Z"
    }
   },
   "outputs": [],
   "source": [
    "import pandas as pd\n",
    "import numpy as np\n",
    "import os\n",
    "import networkx as nx\n",
    "from networkx.algorithms.community import greedy_modularity_communities\n",
    "from sklearn.model_selection import train_test_split\n",
    "from sklearn.preprocessing import LabelEncoder"
   ]
  },
  {
   "cell_type": "code",
   "outputs": [],
   "source": [
    "os.chdir('/Users/alexanderhepburn/Documents/MSc Data Science/1 DS Fundamentals/Assignment 2')"
   ],
   "metadata": {
    "collapsed": false,
    "ExecuteTime": {
     "end_time": "2024-10-05T15:05:39.806208Z",
     "start_time": "2024-10-05T15:05:39.804604Z"
    }
   },
   "id": "1a0c0c59f6f76885",
   "execution_count": 2
  },
  {
   "cell_type": "markdown",
   "source": [
    "# Feature Engineering"
   ],
   "metadata": {
    "collapsed": false
   },
   "id": "6217a6cdf0f59b47"
  },
  {
   "cell_type": "code",
   "outputs": [],
   "source": [
    "attributes = pd.read_csv('data/attributes.csv', index_col=0)\n",
    "edges = pd.read_csv('data/edges_train.edgelist', names=['node1', 'node2'])\n",
    "test = pd.read_csv('data/solutionInput.csv')"
   ],
   "metadata": {
    "collapsed": false,
    "ExecuteTime": {
     "end_time": "2024-10-05T15:10:24.602998Z",
     "start_time": "2024-10-05T15:10:24.596465Z"
    }
   },
   "id": "36b61536ef3402d4",
   "execution_count": 24
  },
  {
   "cell_type": "code",
   "outputs": [],
   "source": [
    "G = nx.Graph()\n",
    "G.add_edges_from(edges.values)"
   ],
   "metadata": {
    "collapsed": false,
    "ExecuteTime": {
     "end_time": "2024-10-05T15:10:24.849456Z",
     "start_time": "2024-10-05T15:10:24.839386Z"
    }
   },
   "id": "f4739be0bdcf37a2",
   "execution_count": 25
  },
  {
   "cell_type": "code",
   "outputs": [
    {
     "name": "stdout",
     "output_type": "stream",
     "text": [
      "Graph with 1500 nodes and 6600 edges\n"
     ]
    }
   ],
   "source": [
    "print(G)"
   ],
   "metadata": {
    "collapsed": false,
    "ExecuteTime": {
     "end_time": "2024-10-05T15:10:25.146395Z",
     "start_time": "2024-10-05T15:10:25.144153Z"
    }
   },
   "id": "c2e8d45d44bd67a",
   "execution_count": 26
  },
  {
   "cell_type": "markdown",
   "source": [
    "## Encode 'attributes'"
   ],
   "metadata": {
    "collapsed": false
   },
   "id": "e8681cd0ea8816c8"
  },
  {
   "cell_type": "code",
   "outputs": [],
   "source": [
    "le = LabelEncoder()\n",
    "attributes['encoded_attr'] = le.fit_transform(attributes['attribute'])\n"
   ],
   "metadata": {
    "collapsed": false,
    "ExecuteTime": {
     "end_time": "2024-10-05T15:10:25.460098Z",
     "start_time": "2024-10-05T15:10:25.457532Z"
    }
   },
   "id": "a660c385c2f0b9aa",
   "execution_count": 27
  },
  {
   "cell_type": "code",
   "outputs": [],
   "source": [
    "#dummies = pd.get_dummies(attributes.attribute)\n",
    "#attributes = pd.concat([dummies])\n",
    "#attributes.drop(attributes.columns[0], axis=1, inplace=True)"
   ],
   "metadata": {
    "collapsed": false,
    "ExecuteTime": {
     "end_time": "2024-10-05T15:10:25.818133Z",
     "start_time": "2024-10-05T15:10:25.814975Z"
    }
   },
   "id": "74d9d9f637e742c8",
   "execution_count": 28
  },
  {
   "cell_type": "code",
   "outputs": [
    {
     "data": {
      "text/plain": "     attribute  encoded_attr\nID                          \n0            l             2\n1            x             4\n2            x             4\n3            x             4\n4            x             4\n...        ...           ...\n1495         l             2\n1496         l             2\n1497         l             2\n1498         f             1\n1499         l             2\n\n[1500 rows x 2 columns]",
      "text/html": "<div>\n<style scoped>\n    .dataframe tbody tr th:only-of-type {\n        vertical-align: middle;\n    }\n\n    .dataframe tbody tr th {\n        vertical-align: top;\n    }\n\n    .dataframe thead th {\n        text-align: right;\n    }\n</style>\n<table border=\"1\" class=\"dataframe\">\n  <thead>\n    <tr style=\"text-align: right;\">\n      <th></th>\n      <th>attribute</th>\n      <th>encoded_attr</th>\n    </tr>\n    <tr>\n      <th>ID</th>\n      <th></th>\n      <th></th>\n    </tr>\n  </thead>\n  <tbody>\n    <tr>\n      <th>0</th>\n      <td>l</td>\n      <td>2</td>\n    </tr>\n    <tr>\n      <th>1</th>\n      <td>x</td>\n      <td>4</td>\n    </tr>\n    <tr>\n      <th>2</th>\n      <td>x</td>\n      <td>4</td>\n    </tr>\n    <tr>\n      <th>3</th>\n      <td>x</td>\n      <td>4</td>\n    </tr>\n    <tr>\n      <th>4</th>\n      <td>x</td>\n      <td>4</td>\n    </tr>\n    <tr>\n      <th>...</th>\n      <td>...</td>\n      <td>...</td>\n    </tr>\n    <tr>\n      <th>1495</th>\n      <td>l</td>\n      <td>2</td>\n    </tr>\n    <tr>\n      <th>1496</th>\n      <td>l</td>\n      <td>2</td>\n    </tr>\n    <tr>\n      <th>1497</th>\n      <td>l</td>\n      <td>2</td>\n    </tr>\n    <tr>\n      <th>1498</th>\n      <td>f</td>\n      <td>1</td>\n    </tr>\n    <tr>\n      <th>1499</th>\n      <td>l</td>\n      <td>2</td>\n    </tr>\n  </tbody>\n</table>\n<p>1500 rows × 2 columns</p>\n</div>"
     },
     "execution_count": 29,
     "metadata": {},
     "output_type": "execute_result"
    }
   ],
   "source": [
    "attributes"
   ],
   "metadata": {
    "collapsed": false,
    "ExecuteTime": {
     "end_time": "2024-10-05T15:10:26.650200Z",
     "start_time": "2024-10-05T15:10:26.642928Z"
    }
   },
   "id": "c45fc49797854f06",
   "execution_count": 29
  },
  {
   "cell_type": "code",
   "outputs": [],
   "source": [
    "def extract_features(node1, node2, G):\n",
    "    features = []\n",
    "    # Common neighbors\n",
    "    common_neighbors = len(list(nx.common_neighbors(G, node1, node2)))\n",
    "    features.append(common_neighbors)\n",
    "    \n",
    "#Jaccard Coefficient\n",
    "    jaccard_coeff = list(nx.jaccard_coefficient(G, [(node1, node2)]))[0][2]\n",
    "    features.append(jaccard_coeff)\n",
    "    \n",
    "    # Preferential Attachment\n",
    "    pref_attach = list(nx.preferential_attachment(G, [(node1, node2)]))[0][2]\n",
    "    features.append(pref_attach)\n",
    "    \n",
    "    # Adamic-Adar Index\n",
    "    adamic_adar = list(nx.adamic_adar_index(G, [(node1, node2)]))[0][2]\n",
    "    features.append(adamic_adar)\n",
    "    \n",
    "    # Shortest Path Distance (if reachable)\n",
    "    try:\n",
    "        shortest_path = nx.shortest_path_length(G, source=node1, target=node2)\n",
    "    except nx.NetworkXNoPath:\n",
    "        shortest_path = -1\n",
    "    features.append(shortest_path)\n",
    "    \n",
    "    # Node attributes (encoded)\n",
    "    attr_diff = abs(attributes.loc[node1, 'encoded_attr'] - attributes.loc[node2, 'encoded_attr'])\n",
    "    features.append(attr_diff)\n",
    "    \n",
    "    return features\n"
   ],
   "metadata": {
    "collapsed": false,
    "ExecuteTime": {
     "end_time": "2024-10-05T15:10:30.573063Z",
     "start_time": "2024-10-05T15:10:30.567224Z"
    }
   },
   "id": "1aa06e996f7cd167",
   "execution_count": 30
  },
  {
   "cell_type": "code",
   "outputs": [],
   "source": [
    "def create_dataset(G, edges, attributes):\n",
    "    X = []\n",
    "    y = []\n",
    "    \n",
    "    # Positive samples (existing edges)\n",
    "    for i, row in edges.iterrows():\n",
    "        node1, node2 = row['node1'], row['node2']\n",
    "        X.append(extract_features(node1, node2, G))\n",
    "        y.append(1)  # Positive label\n",
    "    \n",
    "    # Negative samples (non-existing edges)\n",
    "    non_edges = []\n",
    "    while len(non_edges) < len(edges):\n",
    "        node1, node2 = np.random.randint(0, len(attributes), 2)\n",
    "        if not G.has_edge(node1, node2) and node1 != node2:\n",
    "            X.append(extract_features(node1, node2, G))\n",
    "            y.append(0)  # Negative label\n",
    "            non_edges.append((node1, node2))\n",
    "    \n",
    "    return np.array(X), np.array(y)\n"
   ],
   "metadata": {
    "collapsed": false,
    "ExecuteTime": {
     "end_time": "2024-10-05T15:10:31.096850Z",
     "start_time": "2024-10-05T15:10:31.092202Z"
    }
   },
   "id": "82657d02826ddeb2",
   "execution_count": 31
  },
  {
   "cell_type": "code",
   "outputs": [],
   "source": [
    "X, y = create_dataset(G, edges, attributes)"
   ],
   "metadata": {
    "collapsed": false,
    "ExecuteTime": {
     "end_time": "2024-10-05T15:10:33.439766Z",
     "start_time": "2024-10-05T15:10:32.796284Z"
    }
   },
   "id": "a8e9a157cd05ab19",
   "execution_count": 32
  },
  {
   "cell_type": "markdown",
   "source": [
    "# Principal Component Analysis"
   ],
   "metadata": {
    "collapsed": false
   },
   "id": "7e4381ac9949604c"
  },
  {
   "cell_type": "code",
   "outputs": [],
   "source": [
    "# After feature extraction, but before model training:\n",
    "from sklearn.decomposition import PCA\n",
    "\n",
    "# Assume X is the feature matrix and y is the label vector from create_dataset function\n",
    "\n",
    "# Apply PCA to reduce dimensionality\n",
    "pca = PCA(n_components=4)  # You can change the number of components\n",
    "X_pca = pca.fit_transform(X)\n",
    "\n",
    "# Now X_pca is the reduced feature set, and we proceed with training\n",
    "X_train, X_test, y_train, y_test = train_test_split(X_pca, y, test_size=0.2, random_state=42)\n",
    "\n"
   ],
   "metadata": {
    "collapsed": false,
    "ExecuteTime": {
     "end_time": "2024-10-05T15:10:34.581010Z",
     "start_time": "2024-10-05T15:10:34.262319Z"
    }
   },
   "id": "5a9b7cdf03e675ee",
   "execution_count": 33
  },
  {
   "cell_type": "code",
   "outputs": [],
   "source": [
    "#X, y = create_dataset(G, edges, attributes)\n",
    "\n",
    "# Train-test split\n",
    "#X_train, X_test, y_train, y_test = train_test_split(X, y, test_size=0.2, random_state=42)"
   ],
   "metadata": {
    "collapsed": false,
    "ExecuteTime": {
     "end_time": "2024-10-05T15:10:35.253919Z",
     "start_time": "2024-10-05T15:10:35.250539Z"
    }
   },
   "id": "2269d4999f34fe93",
   "execution_count": 34
  },
  {
   "cell_type": "code",
   "outputs": [
    {
     "data": {
      "text/plain": "array([[ 1.48714597e+02, -1.64649035e+00,  1.32222437e-01,\n        -5.17418254e-01],\n       [-1.17289373e+02,  6.36743558e-01, -2.99175807e+00,\n        -5.47176453e-01],\n       [ 6.78734083e+02, -9.56118456e-01, -8.61409869e-01,\n         4.03148184e+00],\n       ...,\n       [-1.17286979e+02, -2.08331682e+00, -6.08576664e-02,\n        -6.52434092e-01],\n       [-9.72877616e+01, -1.35502417e+00, -7.67478334e-01,\n        -6.91982992e-01],\n       [-1.13290554e+02, -6.60879404e-01,  1.27306523e+00,\n        -1.77450357e-01]])"
     },
     "execution_count": 35,
     "metadata": {},
     "output_type": "execute_result"
    }
   ],
   "source": [
    "X_train"
   ],
   "metadata": {
    "collapsed": false,
    "ExecuteTime": {
     "end_time": "2024-10-05T15:10:35.930884Z",
     "start_time": "2024-10-05T15:10:35.927932Z"
    }
   },
   "id": "44c75b7c61167f59",
   "execution_count": 35
  },
  {
   "cell_type": "markdown",
   "source": [
    "# Modelling\n"
   ],
   "metadata": {
    "collapsed": false
   },
   "id": "2f85cae1cc60d398"
  },
  {
   "cell_type": "code",
   "outputs": [],
   "source": [
    "from sklearn.model_selection import cross_val_score\n",
    "from sklearn.metrics import accuracy_score, classification_report\n",
    "from sklearn.linear_model import LogisticRegression\n",
    "from sklearn.model_selection import GridSearchCV\n",
    "from sklearn.metrics import accuracy_score\n",
    "from sklearn.ensemble import RandomForestClassifier"
   ],
   "metadata": {
    "collapsed": false,
    "ExecuteTime": {
     "end_time": "2024-10-05T15:10:39.904282Z",
     "start_time": "2024-10-05T15:10:39.900295Z"
    }
   },
   "id": "43966a1a11dfbd58",
   "execution_count": 36
  },
  {
   "cell_type": "code",
   "outputs": [
    {
     "name": "stdout",
     "output_type": "stream",
     "text": [
      "1.00 accuracy with a standard deviation of 0.00\n"
     ]
    }
   ],
   "source": [
    "clf = LogisticRegression(random_state=0, C=2.0, max_iter=10000)\n",
    "clf.fit(X_train, y_train)\n",
    "\n",
    "scores = cross_val_score(clf, X_test, y_test, cv=5)\n",
    "print(\"%0.2f accuracy with a standard deviation of %0.2f\" % (scores.mean(), scores.std()))"
   ],
   "metadata": {
    "collapsed": false,
    "ExecuteTime": {
     "end_time": "2024-10-05T15:10:40.469716Z",
     "start_time": "2024-10-05T15:10:40.322747Z"
    }
   },
   "id": "dc625f542b2d147a",
   "execution_count": 37
  },
  {
   "cell_type": "code",
   "outputs": [
    {
     "name": "stdout",
     "output_type": "stream",
     "text": [
      "Accuracy: 0.996969696969697\n",
      "              precision    recall  f1-score   support\n",
      "\n",
      "           0       1.00      0.99      1.00      1329\n",
      "           1       0.99      1.00      1.00      1311\n",
      "\n",
      "    accuracy                           1.00      2640\n",
      "   macro avg       1.00      1.00      1.00      2640\n",
      "weighted avg       1.00      1.00      1.00      2640\n"
     ]
    }
   ],
   "source": [
    "clf = RandomForestClassifier(n_estimators=100, random_state=42)\n",
    "clf.fit(X_train, y_train)\n",
    "y_pred = clf.predict(X_test)\n",
    "print(\"Accuracy:\", accuracy_score(y_test, y_pred))\n",
    "print(classification_report(y_test, y_pred))"
   ],
   "metadata": {
    "collapsed": false,
    "ExecuteTime": {
     "end_time": "2024-10-05T15:10:43.643246Z",
     "start_time": "2024-10-05T15:10:43.004605Z"
    }
   },
   "id": "b378a11a4b16e822",
   "execution_count": 38
  },
  {
   "cell_type": "code",
   "outputs": [],
   "source": [
    "from sklearn.metrics import confusion_matrix\n",
    "import seaborn as sns\n",
    "import matplotlib.pyplot as plt\n",
    "\n"
   ],
   "metadata": {
    "collapsed": false,
    "ExecuteTime": {
     "end_time": "2024-10-05T15:47:22.749629Z",
     "start_time": "2024-10-05T15:47:22.741350Z"
    }
   },
   "id": "8b9a8f90aaa32b6b",
   "execution_count": 40
  },
  {
   "cell_type": "code",
   "outputs": [
    {
     "data": {
      "text/plain": "<Figure size 640x480 with 2 Axes>",
      "image/png": "[encoded data removed]"
     },
     "metadata": {},
     "output_type": "display_data"
    }
   ],
   "source": [
    "cm = confusion_matrix(y_test, y_pred)\n",
    "sns.heatmap(cm, annot=True, fmt='d', cmap='Blues')\n",
    "plt.title('Confusion Matrix - Held-out Test Set')\n",
    "plt.xlabel('Predicted')\n",
    "plt.ylabel('Actual')\n",
    "plt.show()"
   ],
   "metadata": {
    "collapsed": false,
    "ExecuteTime": {
     "end_time": "2024-10-05T15:47:23.680746Z",
     "start_time": "2024-10-05T15:47:23.608718Z"
    }
   },
   "id": "65e7533d635b7206",
   "execution_count": 41
  },
  {
   "cell_type": "code",
   "outputs": [],
   "source": [],
   "metadata": {
    "collapsed": false
   },
   "id": "9f305920894b5348"
  }
 ],
 "metadata": {
  "kernelspec": {
   "display_name": "Python 3",
   "language": "python",
   "name": "python3"
  },
  "language_info": {
   "codemirror_mode": {
    "name": "ipython",
    "version": 2
   },
   "file_extension": ".py",
   "mimetype": "text/x-python",
   "name": "python",
   "nbconvert_exporter": "python",
   "pygments_lexer": "ipython2",
   "version": "2.7.6"
  }
 },
 "nbformat": 4,
 "nbformat_minor": 5
}
