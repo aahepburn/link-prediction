{
 "cells": [
  {
   "cell_type": "code",
   "execution_count": 91,
   "id": "initial_id",
   "metadata": {
    "collapsed": true,
    "ExecuteTime": {
     "end_time": "2024-10-04T17:32:31.123450Z",
     "start_time": "2024-10-04T17:32:30.483264Z"
    }
   },
   "outputs": [],
   "source": [
    "import pandas as pd\n",
    "import numpy as np\n",
    "import os\n",
    "import networkx as nx\n",
    "from networkx.algorithms.community import greedy_modularity_communities\n",
    "from sklearn.model_selection import train_test_split\n",
    "from sklearn.preprocessing import LabelEncoder"
   ]
  },
  {
   "cell_type": "code",
   "outputs": [],
   "source": [
    "os.chdir('/Users/alexanderhepburn/Documents/MSc Data Science/1 DS Fundamentals/Assignment 2')"
   ],
   "metadata": {
    "collapsed": false,
    "ExecuteTime": {
     "end_time": "2024-10-04T16:20:46.006475Z",
     "start_time": "2024-10-04T16:20:46.003213Z"
    }
   },
   "id": "1a0c0c59f6f76885",
   "execution_count": 12
  },
  {
   "cell_type": "markdown",
   "source": [
    "# Feature Engineering"
   ],
   "metadata": {
    "collapsed": false
   },
   "id": "6217a6cdf0f59b47"
  },
  {
   "cell_type": "code",
   "outputs": [],
   "source": [
    "attributes = pd.read_csv('data/attributes.csv', index_col=0)\n",
    "edges = pd.read_csv('data/edges_train.edgelist', names=['node1', 'node2'])\n",
    "test = pd.read_csv('data/solutionInput.csv')"
   ],
   "metadata": {
    "collapsed": false,
    "ExecuteTime": {
     "end_time": "2024-10-04T17:39:47.958904Z",
     "start_time": "2024-10-04T17:39:47.936095Z"
    }
   },
   "id": "36b61536ef3402d4",
   "execution_count": 110
  },
  {
   "cell_type": "code",
   "outputs": [],
   "source": [
    "G = nx.Graph()\n",
    "G.add_edges_from(edges.values)"
   ],
   "metadata": {
    "collapsed": false,
    "ExecuteTime": {
     "end_time": "2024-10-04T17:39:48.194571Z",
     "start_time": "2024-10-04T17:39:48.179302Z"
    }
   },
   "id": "f4739be0bdcf37a2",
   "execution_count": 111
  },
  {
   "cell_type": "code",
   "outputs": [
    {
     "name": "stdout",
     "output_type": "stream",
     "text": [
      "Graph with 1500 nodes and 6600 edges\n"
     ]
    }
   ],
   "source": [
    "print(G)"
   ],
   "metadata": {
    "collapsed": false,
    "ExecuteTime": {
     "end_time": "2024-10-04T17:39:48.440679Z",
     "start_time": "2024-10-04T17:39:48.436306Z"
    }
   },
   "id": "c2e8d45d44bd67a",
   "execution_count": 112
  },
  {
   "cell_type": "code",
   "outputs": [],
   "source": [
    "le = LabelEncoder()\n",
    "attributes['encoded_attr'] = le.fit_transform(attributes['attribute'])"
   ],
   "metadata": {
    "collapsed": false,
    "ExecuteTime": {
     "end_time": "2024-10-04T17:39:56.235555Z",
     "start_time": "2024-10-04T17:39:56.231925Z"
    }
   },
   "id": "a660c385c2f0b9aa",
   "execution_count": 115
  },
  {
   "cell_type": "code",
   "outputs": [],
   "source": [
    "def extract_features(node1, node2, G):\n",
    "    features = []\n",
    "    # Common neighbors\n",
    "    common_neighbors = len(list(nx.common_neighbors(G, node1, node2)))\n",
    "    features.append(common_neighbors)\n",
    "    \n",
    "    # Jaccard Coefficient\n",
    "    jaccard_coeff = list(nx.jaccard_coefficient(G, [(node1, node2)]))[0][2]\n",
    "    features.append(jaccard_coeff)\n",
    "    \n",
    "    # Preferential Attachment\n",
    "    pref_attach = list(nx.preferential_attachment(G, [(node1, node2)]))[0][2]\n",
    "    features.append(pref_attach)\n",
    "    \n",
    "    # Adamic-Adar Index\n",
    "    adamic_adar = list(nx.adamic_adar_index(G, [(node1, node2)]))[0][2]\n",
    "    features.append(adamic_adar)\n",
    "    \n",
    "    # Node attributes (encoded)\n",
    "    attr_diff = abs(attributes.loc[node1, 'encoded_attr'] - attributes.loc[node2, 'encoded_attr'])\n",
    "    features.append(attr_diff)\n",
    "    \n",
    "    return features\n"
   ],
   "metadata": {
    "collapsed": false,
    "ExecuteTime": {
     "end_time": "2024-10-04T17:39:56.674817Z",
     "start_time": "2024-10-04T17:39:56.671973Z"
    }
   },
   "id": "74d9d9f637e742c8",
   "execution_count": 116
  },
  {
   "cell_type": "code",
   "outputs": [],
   "source": [
    "def create_dataset(G, edges, attributes):\n",
    "    X = []\n",
    "    y = []\n",
    "    \n",
    "    # Positive samples (existing edges)\n",
    "    for i, row in edges.iterrows():\n",
    "        node1, node2 = row['node1'], row['node2']\n",
    "        X.append(extract_features(node1, node2, G))\n",
    "        y.append(1)  # Positive label\n",
    "    \n",
    "    # Negative samples (non-existing edges)\n",
    "    non_edges = []\n",
    "    while len(non_edges) < len(edges):\n",
    "        node1, node2 = np.random.randint(0, len(attributes), 2)\n",
    "        if not G.has_edge(node1, node2) and node1 != node2:\n",
    "            X.append(extract_features(node1, node2, G))\n",
    "            y.append(0)  # Negative label\n",
    "            non_edges.append((node1, node2))\n",
    "    \n",
    "    return np.array(X), np.array(y)\n"
   ],
   "metadata": {
    "collapsed": false,
    "ExecuteTime": {
     "end_time": "2024-10-04T17:39:57.247067Z",
     "start_time": "2024-10-04T17:39:57.243709Z"
    }
   },
   "id": "c45fc49797854f06",
   "execution_count": 117
  },
  {
   "cell_type": "code",
   "outputs": [],
   "source": [
    "X, y = create_dataset(G, edges, attributes)\n",
    "\n",
    "# Train-test split\n",
    "X_train, X_test, y_train, y_test = train_test_split(X, y, test_size=0.2, random_state=42)"
   ],
   "metadata": {
    "collapsed": false,
    "ExecuteTime": {
     "end_time": "2024-10-04T17:39:58.370928Z",
     "start_time": "2024-10-04T17:39:57.901561Z"
    }
   },
   "id": "1aa06e996f7cd167",
   "execution_count": 118
  },
  {
   "cell_type": "markdown",
   "source": [
    "# Modelling"
   ],
   "metadata": {
    "collapsed": false
   },
   "id": "934af1eede74ed57"
  },
  {
   "cell_type": "code",
   "outputs": [],
   "source": [
    "from sklearn.model_selection import cross_val_score\n",
    "from sklearn.metrics import accuracy_score, classification_report\n",
    "from sklearn.linear_model import LogisticRegression\n",
    "from sklearn.model_selection import GridSearchCV\n",
    "from sklearn.metrics import accuracy_score\n",
    "from sklearn.ensemble import RandomForestClassifier"
   ],
   "metadata": {
    "collapsed": false,
    "ExecuteTime": {
     "end_time": "2024-10-04T17:40:03.073036Z",
     "start_time": "2024-10-04T17:40:03.070864Z"
    }
   },
   "id": "a799e86a7059b487",
   "execution_count": 119
  },
  {
   "cell_type": "code",
   "outputs": [
    {
     "name": "stdout",
     "output_type": "stream",
     "text": [
      "0.80 accuracy with a standard deviation of 0.03\n"
     ]
    }
   ],
   "source": [
    "clf = LogisticRegression(random_state=0, C=2.0, max_iter=10000)\n",
    "clf.fit(X_train, y_train)\n",
    "\n",
    "scores = cross_val_score(clf, X_test, y_test, cv=5)\n",
    "print(\"%0.2f accuracy with a standard deviation of %0.2f\" % (scores.mean(), scores.std()))"
   ],
   "metadata": {
    "collapsed": false,
    "ExecuteTime": {
     "end_time": "2024-10-04T17:40:23.605742Z",
     "start_time": "2024-10-04T17:40:22.140461Z"
    }
   },
   "id": "2269d4999f34fe93",
   "execution_count": 121
  },
  {
   "cell_type": "code",
   "outputs": [
    {
     "name": "stdout",
     "output_type": "stream",
     "text": [
      "Accuracy: 0.8306818181818182\n",
      "              precision    recall  f1-score   support\n",
      "\n",
      "           0       0.84      0.82      0.83      1329\n",
      "           1       0.82      0.84      0.83      1311\n",
      "\n",
      "    accuracy                           0.83      2640\n",
      "   macro avg       0.83      0.83      0.83      2640\n",
      "weighted avg       0.83      0.83      0.83      2640\n"
     ]
    }
   ],
   "source": [
    "clf = RandomForestClassifier(n_estimators=100, random_state=42)\n",
    "clf.fit(X_train, y_train)\n",
    "y_pred = clf.predict(X_test)\n",
    "print(\"Accuracy:\", accuracy_score(y_test, y_pred))\n",
    "print(classification_report(y_test, y_pred))"
   ],
   "metadata": {
    "collapsed": false,
    "ExecuteTime": {
     "end_time": "2024-10-04T17:40:30.214926Z",
     "start_time": "2024-10-04T17:40:29.676538Z"
    }
   },
   "id": "44c75b7c61167f59",
   "execution_count": 122
  },
  {
   "cell_type": "code",
   "outputs": [],
   "source": [],
   "metadata": {
    "collapsed": false
   },
   "id": "3858074be39894ec"
  }
 ],
 "metadata": {
  "kernelspec": {
   "display_name": "Python 3",
   "language": "python",
   "name": "python3"
  },
  "language_info": {
   "codemirror_mode": {
    "name": "ipython",
    "version": 2
   },
   "file_extension": ".py",
   "mimetype": "text/x-python",
   "name": "python",
   "nbconvert_exporter": "python",
   "pygments_lexer": "ipython2",
   "version": "2.7.6"
  }
 },
 "nbformat": 4,
 "nbformat_minor": 5
}
